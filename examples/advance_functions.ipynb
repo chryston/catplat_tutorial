{
 "cells": [
  {
   "cell_type": "markdown",
   "id": "4ea54c21",
   "metadata": {
    "pycharm": {
     "name": "#%% md\n"
    }
   },
   "source": [
    "# Welcome to the autopy API showcase"
   ]
  },
  {
   "cell_type": "code",
   "execution_count": 1,
   "id": "e874a55d",
   "metadata": {
    "pycharm": {
     "name": "#%%\n"
    }
   },
   "outputs": [
    {
     "data": {
      "text/html": [
       "<style>.container { width:55% !important; }</style>"
      ],
      "text/plain": [
       "<IPython.core.display.HTML object>"
      ]
     },
     "metadata": {},
     "output_type": "display_data"
    }
   ],
   "source": [
    "from IPython.display import display, HTML\n",
    "display(HTML(\"<style>.container { width:55% !important; }</style>\"))"
   ]
  },
  {
   "cell_type": "code",
   "execution_count": 2,
   "id": "10c3081b",
   "metadata": {
    "pycharm": {
     "name": "#%%\n"
    }
   },
   "outputs": [],
   "source": [
    "# Dependencies\n",
    "from autopy.workflows.manager import Project\n",
    "from pyatoms.jobs.job import OverallJobRunner # for real runs\n",
    "from pyatoms.jobs.vasp.runner import FakeVaspOverallJobRunner # for fast testing\n",
    "\n",
    "# Creating project\n",
    "import os\n",
    "from tempfile import TemporaryDirectory\n",
    "tmpdir = TemporaryDirectory()\n",
    "project_folder = os.path.join(tmpdir.name, 'test_custom_bulk')\n",
    "os.mkdir(project_folder)\n",
    "\n",
    "#jobrunner = OverallJobRunner(server='stratus', num_nodes=1) # use this for a real DFT run\n",
    "jobrunner = FakeVaspOverallJobRunner() # use this for testing\n",
    "project = Project(jobrunner=jobrunner, name='pbed3', folder=project_folder)"
   ]
  },
  {
   "cell_type": "markdown",
   "id": "7c3beed7",
   "metadata": {
    "pycharm": {
     "name": "#%% md\n"
    }
   },
   "source": [
    "## Specifying own bulk structure"
   ]
  },
  {
   "cell_type": "markdown",
   "id": "e8b49c44",
   "metadata": {
    "pycharm": {
     "name": "#%% md\n"
    }
   },
   "source": [
    "If the bulk structure that you are working on cannot be found on the materials project, you can specify your own bulk structure by placing it in ~/.autopy/bulk or autopy/autopy/data/bulk"
   ]
  },
  {
   "cell_type": "code",
   "execution_count": 7,
   "id": "c36b7a52",
   "metadata": {
    "pycharm": {
     "name": "#%%\n"
    }
   },
   "outputs": [],
   "source": [
    "from autopy.database.ase_db import QuerySet\n",
    "qs = QuerySet()\n",
    "qs.bulk = ['Rh_bulk'] # name of bulk file in directory\n",
    "qs.miller_index = [(1,1,1)] # list of miller indices\n",
    "qs.adsorbate = ['H'] # list of adsorbates\n",
    "\n",
    "qs.rotation = [0] # optional but highly recommended for asymmetrical adsorbates\n",
    "qs.unitcell_size = [(2,2)]  # optional default = [(1,1)]"
   ]
  },
  {
   "cell_type": "code",
   "execution_count": 10,
   "id": "056fca01",
   "metadata": {
    "pycharm": {
     "name": "#%%\n"
    }
   },
   "outputs": [
    {
     "name": "stdout",
     "output_type": "stream",
     "text": [
      "/tmp/tmpborqs0ac/test_custom_bulk/calculations\n",
      "Retrieved 4 results.\n",
      "Energies: [123.0, 123.0, 123.0, 123.0]\n",
      "Found 4 structures\n"
     ]
    }
   ],
   "source": [
    "# quering for structures\n",
    "results =  project.retrieve(query_set=qs)\n",
    "print(f'Retrieved {len(results)} results.')\n",
    "\n",
    "energies = results.energies()\n",
    "print(f'Energies: {energies}')\n",
    "structures = results.structures()\n",
    "print(f'Found {len(structures)} structures')"
   ]
  },
  {
   "cell_type": "code",
   "execution_count": 12,
   "id": "4171b2f7",
   "metadata": {
    "pycharm": {
     "name": "#%%\n"
    }
   },
   "outputs": [
    {
     "data": {
      "text/plain": [
       "<Popen: returncode: None args: ['/home/chryston/miniconda3/envs/pyatoms-dev/...>"
      ]
     },
     "execution_count": 12,
     "metadata": {},
     "output_type": "execute_result"
    }
   ],
   "source": [
    "# viewing structures\n",
    "from ase.visualize import view\n",
    "view(structures)"
   ]
  },
  {
   "cell_type": "markdown",
   "id": "11e289cf",
   "metadata": {
    "pycharm": {
     "name": "#%% md\n"
    }
   },
   "source": [
    "Do note that autopy creates the slab with respect to the conventional cell of the specified bulk structure. Trial and error of the slab attributes can be done using the slabbuilder.py script "
   ]
  },
  {
   "cell_type": "markdown",
   "id": "de20e44b",
   "metadata": {
    "pycharm": {
     "name": "#%% md\n"
    }
   },
   "source": [
    "## Specifying own slab"
   ]
  },
  {
   "cell_type": "markdown",
   "id": "ee3fcb18",
   "metadata": {
    "pycharm": {
     "name": "#%% md\n"
    }
   },
   "source": [
    "#TODO"
   ]
  }
 ],
 "metadata": {
  "kernelspec": {
   "display_name": "Python 3.9.10 ('pyatoms-dev': conda)",
   "language": "python",
   "name": "python3"
  },
  "language_info": {
   "codemirror_mode": {
    "name": "ipython",
    "version": 3
   },
   "file_extension": ".py",
   "mimetype": "text/x-python",
   "name": "python",
   "nbconvert_exporter": "python",
   "pygments_lexer": "ipython3",
   "version": "3.9.10"
  },
  "vscode": {
   "interpreter": {
    "hash": "d058dd5b54a220e040ce0ff5570431aa27dee9c1d3fe26ad4a34ae2919554b18"
   }
  }
 },
 "nbformat": 4,
 "nbformat_minor": 5
}