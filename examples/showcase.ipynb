{
 "cells": [
  {
   "cell_type": "markdown",
   "id": "4ea54c21",
   "metadata": {},
   "source": [
    "# Welcome to the autopy API showcase"
   ]
  },
  {
   "cell_type": "code",
   "execution_count": null,
   "metadata": {
    "collapsed": false,
    "pycharm": {
     "name": "#%%\n"
    }
   },
   "outputs": [],
   "source": [
    "from IPython.display import display, HTML\n",
    "display(HTML(\"<style>.container { width:55% !important; }</style>\"))"
   ]
  },
  {
   "cell_type": "markdown",
   "metadata": {
    "collapsed": false,
    "pycharm": {
     "name": "#%% md\n"
    }
   },
   "source": [
    "## Dependencies \n",
    "\n",
    "Autopy requires pyatoms, a job management package for atomistic calculations. Pyatoms handles the fundamental infrastructure for running DFT jobs via ASE. It supports calculators such as VASP/CP2K."
   ]
  },
  {
   "cell_type": "code",
   "execution_count": null,
   "metadata": {
    "collapsed": false,
    "pycharm": {
     "name": "#%%\n"
    }
   },
   "outputs": [],
   "source": [
    "from autopy.workflows.manager import Project\n",
    "from pyatoms.jobs.job import OverallJobRunner # for real runs\n",
    "from pyatoms.jobs.vasp.runner import FakeVaspOverallJobRunner # for fast testing"
   ]
  },
  {
   "cell_type": "markdown",
   "metadata": {
    "collapsed": false,
    "pycharm": {
     "name": "#%% md\n"
    }
   },
   "source": [
    "## Creating a project\n",
    "\n",
    "The Project class is the main entry point. We first create a temporary directory for our project; you can choose any directory you like. The calculations and database will be found in this directory. "
   ]
  },
  {
   "cell_type": "markdown",
   "metadata": {
    "collapsed": false,
    "pycharm": {
     "name": "#%% md\n"
    }
   },
   "source": [
    "The `Project` class is the main API for autopy."
   ]
  },
  {
   "cell_type": "code",
   "execution_count": null,
   "metadata": {
    "collapsed": false,
    "pycharm": {
     "name": "#%%\n"
    }
   },
   "outputs": [],
   "source": [
    "import os\n",
    "from tempfile import TemporaryDirectory\n",
    "tmpdir = TemporaryDirectory()\n",
    "project_folder = os.path.join(tmpdir.name, 'test_Cu6')\n",
    "os.mkdir(project_folder)"
   ]
  },
  {
   "cell_type": "code",
   "execution_count": null,
   "metadata": {
    "collapsed": false,
    "pycharm": {
     "name": "#%%\n"
    }
   },
   "outputs": [],
   "source": [
    "print(project_folder)"
   ]
  },
  {
   "cell_type": "markdown",
   "metadata": {
    "collapsed": false,
    "pycharm": {
     "name": "#%% md\n"
    }
   },
   "source": [
    "We specify a \"jobrunner\" that contains all information about the server and how to run VASP jobs. For the sake of speed, here we use a \"fake\" jobrunner that will always give 123 as the energy."
   ]
  },
  {
   "cell_type": "code",
   "execution_count": null,
   "metadata": {
    "collapsed": false,
    "pycharm": {
     "name": "#%%\n"
    }
   },
   "outputs": [],
   "source": [
    "#jobrunner = OverallJobRunner(server='stratus', num_nodes=1) # use this for a real DFT run\n",
    "jobrunner = FakeVaspOverallJobRunner() # use this for testing"
   ]
  },
  {
   "cell_type": "markdown",
   "metadata": {
    "collapsed": false,
    "pycharm": {
     "name": "#%% md\n"
    }
   },
   "source": [
    "The project name should be the same as that specified for the Project settings yaml file for pyatoms (in ~/.pyatoms/vasp/{project_name}.yaml) "
   ]
  },
  {
   "cell_type": "code",
   "execution_count": null,
   "metadata": {
    "collapsed": false,
    "pycharm": {
     "name": "#%%\n"
    }
   },
   "outputs": [],
   "source": [
    "project = Project(jobrunner=jobrunner, name='pbed3', folder=project_folder)"
   ]
  },
  {
   "cell_type": "markdown",
   "metadata": {
    "collapsed": false,
    "pycharm": {
     "name": "#%% md\n"
    }
   },
   "source": [
    "## Querying project for H adsorption on Cu(111)\n",
    "\n",
    "Here is a simple example of a query. Only 3 attributes are required to minimally specify the query. Additional attributes are also available to further finetune the query."
   ]
  },
  {
   "cell_type": "code",
   "execution_count": null,
   "metadata": {
    "collapsed": false,
    "pycharm": {
     "name": "#%%\n"
    }
   },
   "outputs": [],
   "source": [
    "from autopy.database.ase_db import QuerySet\n",
    "qs = QuerySet()\n",
    " \n",
    "#NOTE: QuerySet attributes are defined by lists. \n",
    "# Multiple specifications can be specified per attribute. More shown in the later examples\n",
    "# i.e., qs.chemsys = ['Cu', 'Rh']\n",
    "# i.e., qs.miller_index = [(1,1,1), (1,0,0)]\n",
    "\n",
    "qs.chemsys = ['Cu'] # list of chemical systems\n",
    "qs.miller_index = [(1,1,1)] # list of miller indices\n",
    "qs.adsorbate = ['H'] # list of adsorbates\n",
    "\n",
    "qs.e_above_hull = ['<0.001'] # optional but highly recommended to reduce the number of bulk obtained from MP\n",
    "qs.rotation = [0] # optional but highly recommended for asymmetrical adsorbates\n",
    "qs.unitcell_size = [(2,2)]  # optional default = [(1,1)]"
   ]
  },
  {
   "cell_type": "code",
   "execution_count": null,
   "metadata": {
    "collapsed": false,
    "pycharm": {
     "name": "#%%\n"
    }
   },
   "outputs": [],
   "source": [
    "# Full list of attributes\n",
    "'''\n",
    "# Bulk properties\n",
    "bulk: [str]\n",
    "e_above_hull: [str/float] #str must be Comparator\n",
    "bulk_formula: [str]\n",
    "chemsys: [str]\n",
    "spacegroup: [int]\n",
    "\n",
    "# Surface properties\n",
    "termination: [str]\n",
    "overlayer: [str]\n",
    "miller_index: [tuple/list]\n",
    "unitcell_size: [tuple/list]\n",
    "num_layers: int = [int]\n",
    "num_fixed_layers: [int]\n",
    "vacuum: [int]\n",
    "conventional: [bool]\n",
    "\n",
    "# Adsorbate properties\n",
    "adsorbate: [str]\n",
    "adsorbate_formula: [str]\n",
    "bonds: [[int]] #e.g. [[0]] for monodentate and [[0,1]] for bidentate\n",
    "connectivity: [[int]] #e.g. [[0]]\n",
    "avg_coord_num: [[int/float/str]] #e.g. [[7]] for monodentate and [[7,7]] for bidentate; str must be Comparator\n",
    "rotation: [[int/float]] typing.Union[int, float] = None\n",
    "\n",
    "NOTE:\n",
    "Comparator string format: '>value', '<value', '>=value' or '<=value'\n",
    "'''"
   ]
  },
  {
   "cell_type": "markdown",
   "metadata": {
    "collapsed": false,
    "pycharm": {
     "name": "#%% md\n"
    }
   },
   "source": [
    "We feed the query to the `retrieve()` method. If the database does not have the relevant information, calculations will be automatically assembled and performed to obtain the desired information.\n",
    "\n",
    "Since this is a new project, there is no data available and  we have to wait a while for the calculations to finish. "
   ]
  },
  {
   "cell_type": "code",
   "execution_count": null,
   "metadata": {
    "collapsed": false,
    "pycharm": {
     "name": "#%%\n"
    }
   },
   "outputs": [],
   "source": [
    "results =  project.retrieve(query_set=qs)\n",
    "print(f'Retrieved {len(results)} results.')\n",
    "\n",
    "energies = results.energies()\n",
    "print(f'Energies: {energies}')\n",
    "\n",
    "'''\n",
    "NOTE: To access other databse attributes from results...\n",
    "    attr = [entry.attributes.attr for entry in results.entries]\n",
    "\n",
    "Example:\n",
    "    termination = [entry.attributes.termination for entry in results.entries]\n",
    "'''"
   ]
  },
  {
   "cell_type": "markdown",
   "metadata": {
    "collapsed": false,
    "pycharm": {
     "name": "#%% md\n"
    }
   },
   "source": [
    "There are 4 energies, corresponding to adsorption at the 4 high symmetry sites, fcc, top, bridge, and hcp. Let's run the get_energy() method again. Since we have now done the calculations, this is much faster, as we just retrieve data from the database."
   ]
  },
  {
   "cell_type": "code",
   "execution_count": null,
   "metadata": {
    "collapsed": false,
    "pycharm": {
     "name": "#%%\n"
    }
   },
   "outputs": [],
   "source": [
    "results_again =  project.retrieve(query_set=qs)\n",
    "print(f'Retrieved {len(results_again)} results.')"
   ]
  },
  {
   "cell_type": "markdown",
   "metadata": {
    "collapsed": false,
    "pycharm": {
     "name": "#%% md\n"
    }
   },
   "source": [
    "We can obtain the optimized structures from the `structures()` method of the `results`. Visualization of the structures reassures us that our results are correct."
   ]
  },
  {
   "cell_type": "code",
   "execution_count": null,
   "metadata": {
    "collapsed": false,
    "pycharm": {
     "name": "#%%\n"
    }
   },
   "outputs": [],
   "source": [
    "structures = results.structures()\n",
    "print(f'Found {len(structures)} structures')"
   ]
  },
  {
   "cell_type": "code",
   "execution_count": null,
   "metadata": {
    "collapsed": false,
    "pycharm": {
     "name": "#%%\n"
    }
   },
   "outputs": [],
   "source": [
    "from ase.visualize import view\n",
    "view(structures)"
   ]
  },
  {
   "cell_type": "markdown",
   "metadata": {
    "collapsed": false,
    "pycharm": {
     "name": "#%% md\n"
    }
   },
   "source": [
    "Looking into the database, we can see 1 bulk calculation, 1 miller index (slab) calculation, and 4 adsorbate calculations."
   ]
  },
  {
   "cell_type": "code",
   "execution_count": null,
   "metadata": {
    "collapsed": false,
    "pycharm": {
     "name": "#%%\n"
    }
   },
   "outputs": [],
   "source": [
    "!cd $project_folder/database; ase db -c ++ project.db  relaxed=True"
   ]
  },
  {
   "cell_type": "markdown",
   "metadata": {
    "collapsed": false,
    "pycharm": {
     "name": "#%% md\n"
    }
   },
   "source": [
    "## Querying project for CO adsorption on Cu(111)\n",
    "\n",
    "We can easily probe another adsorbate by changing the adsorbate name.\n",
    "\n"
   ]
  },
  {
   "cell_type": "code",
   "execution_count": null,
   "metadata": {
    "collapsed": false,
    "pycharm": {
     "name": "#%%\n"
    }
   },
   "outputs": [],
   "source": [
    "qs = QuerySet()\n",
    "qs.chemsys = ['Cu']\n",
    "qs.miller_index = [(1,1,1)]\n",
    "qs.adsorbate = ['CO']\n",
    "\n",
    "results_co =  project.retrieve(qs)\n",
    "print(f'Retrieved {len(results_co)} results')\n",
    "\n",
    "\n",
    "structures_co = results_co.structures()\n",
    "print(f'Found {len(structures_co)} structures')\n",
    "view(structures_co)"
   ]
  },
  {
   "cell_type": "markdown",
   "metadata": {
    "collapsed": false,
    "pycharm": {
     "name": "#%% md\n"
    }
   },
   "source": [
    "Looking into the database again, we now see 1 bulk calculation, 1 miller index (slab) calculation, and 8 adsorbate calculations. We were able to reuse the bulk calculation and miller index calculation. Only the new adsorbate calculations were needed."
   ]
  },
  {
   "cell_type": "code",
   "execution_count": null,
   "metadata": {
    "collapsed": false,
    "pycharm": {
     "name": "#%%\n"
    }
   },
   "outputs": [],
   "source": [
    "!cd $project_folder/database; ase db -c ++ project.db  relaxed=True"
   ]
  },
  {
   "cell_type": "markdown",
   "metadata": {
    "collapsed": false,
    "pycharm": {
     "name": "#%% md\n"
    }
   },
   "source": [
    "NOTE: Sometimes autopy cannot automatically generate the adsorbate structure just from its name. In that case, you need to provide your own adsorbate structure file in ~/.autopy/adsorbates. The structure file has to be named as {adsorbate_name}.{any readable"
   ]
  },
  {
   "cell_type": "markdown",
   "metadata": {
    "collapsed": false,
    "pycharm": {
     "name": "#%% md\n"
    }
   },
   "source": [
    "## Querying multiple systems simultaneously"
   ]
  },
  {
   "cell_type": "markdown",
   "id": "c28096a7",
   "metadata": {},
   "source": [
    "For efficiency, we can also query multiple systems by adding on to the list of specified attributes. This would be faster than querying systems individually. Here we get the results for adsorption of both CO and H."
   ]
  },
  {
   "cell_type": "code",
   "execution_count": null,
   "metadata": {
    "collapsed": false,
    "pycharm": {
     "name": "#%%\n"
    }
   },
   "outputs": [],
   "source": [
    "qs = QuerySet()\n",
    "qs.chemsys = ['Cu']\n",
    "qs.miller_index = [(1,1,1)]\n",
    "qs.adsorbate = ['CO','H']\n",
    "qs.unitcell_size = [(2,2)]  \n",
    "\n",
    "results_multi =  project.retrieve(qs)\n",
    "print(f'Retrieved {len(results_co)} results')\n"
   ]
  },
  {
   "cell_type": "markdown",
   "id": "208bb6b3",
   "metadata": {
    "collapsed": false,
    "pycharm": {
     "name": "#%%\n"
    }
   },
   "source": [
    "For further analysis, we can filter the results to pinpoint the results that we desire"
   ]
  },
  {
   "cell_type": "code",
   "execution_count": null,
   "metadata": {
    "collapsed": false,
    "pycharm": {
     "name": "#%%\n"
    }
   },
   "outputs": [],
   "source": [
    "results_CO_111 = results_multi.filter(adsorbate='CO', miller_index=(1,1,1))\n",
    "results_H_111 = results_multi.filter(adsorbate='H', miller_index=(1,1,1))\n",
    "print(f'Retrieved {len(results_CO_111)} results for CO') # 4 sites for CO\n",
    "print(f'Retrieved {len(results_H_111)} results for H') # 4 sites for H"
   ]
  }
 ],
 "metadata": {
  "kernelspec": {
   "display_name": "Python 3.9.10 ('pyatoms-dev': conda)",
   "language": "python",
   "name": "python3"
  },
  "language_info": {
   "codemirror_mode": {
    "name": "ipython",
    "version": 3
   },
   "file_extension": ".py",
   "mimetype": "text/x-python",
   "name": "python",
   "nbconvert_exporter": "python",
   "pygments_lexer": "ipython3",
   "version": "3.9.10"
  },
  "vscode": {
   "interpreter": {
    "hash": "d058dd5b54a220e040ce0ff5570431aa27dee9c1d3fe26ad4a34ae2919554b18"
   }
  }
 },
 "nbformat": 4,
 "nbformat_minor": 5
}
