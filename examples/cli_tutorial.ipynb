{
 "cells": [
  {
   "cell_type": "markdown",
   "metadata": {},
   "source": [
    "# Welcome to Catplat CLI tutorial\n",
    "\n",
    "Catplat is a high throughput screening for heterogenous catalytic descriptors, with database storage functionality"
   ]
  },
  {
   "cell_type": "markdown",
   "metadata": {},
   "source": [
    "## 1. Setting up and installing catplat"
   ]
  },
  {
   "cell_type": "markdown",
   "metadata": {},
   "source": [
    "### Set up environment\n",
    "Catplat is developed and build on top of pyatoms. As such, we would have to first set up pyatoms. ....\n",
    "\n",
    "For convenience, we have set up the environment with the necessary dependencies and packages on ACRC and NSCC supercomputers. Simply activate the environment to start using catplat.\n",
    "\n",
    "#note\n",
    "still need to pip install . in catplat folder?"
   ]
  },
  {
   "cell_type": "code",
   "execution_count": null,
   "metadata": {},
   "outputs": [],
   "source": [
    "!conda activate ______"
   ]
  },
  {
   "cell_type": "markdown",
   "metadata": {},
   "source": [
    "## 2. Catplat CLI commands\n",
    "\n",
    "There are three main commands for using catplat. They are catplat config, catplat calculate and catplat retrieve.\n",
    "catplat config: \n",
    "catplat calculate:\n",
    "catplat retrieve:\n",
    "\n",
    "For more details for each command, simply run catplat __script_name__ --help."
   ]
  },
  {
   "cell_type": "markdown",
   "metadata": {},
   "source": [
    "### 2.1  Catplat Config\n",
    "\n",
    "catplat config is used to configure catplat. Using this command, we can set up settings such as the project name, calculation path, database path.\n",
    "\n",
    "Options:"
   ]
  },
  {
   "cell_type": "code",
   "execution_count": 2,
   "metadata": {},
   "outputs": [
    {
     "name": "stdout",
     "output_type": "stream",
     "text": [
      "/bin/bash: catplat: command not found\n"
     ]
    }
   ],
   "source": [
    "!catplat config --project wgs --calc-path ~/catplat/wgs/calc --db-path ~/catplat/wgs/db"
   ]
  },
  {
   "cell_type": "markdown",
   "metadata": {},
   "source": [
    "### 2.2 Catplat Calculate"
   ]
  },
  {
   "cell_type": "markdown",
   "metadata": {},
   "source": [
    "### 2.3 Catplat Retrieve"
   ]
  }
 ],
 "metadata": {
  "kernelspec": {
   "display_name": "Python 3.8.10 64-bit",
   "language": "python",
   "name": "python3"
  },
  "language_info": {
   "codemirror_mode": {
    "name": "ipython",
    "version": 3
   },
   "file_extension": ".py",
   "mimetype": "text/x-python",
   "name": "python",
   "nbconvert_exporter": "python",
   "pygments_lexer": "ipython3",
   "version": "3.8.10"
  },
  "orig_nbformat": 4,
  "vscode": {
   "interpreter": {
    "hash": "916dbcbb3f70747c44a77c7bcd40155683ae19c65e1c03b4aa3499c5328201f1"
   }
  }
 },
 "nbformat": 4,
 "nbformat_minor": 2
}
